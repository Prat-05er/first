{
 "cells": [
  {
   "cell_type": "markdown",
   "id": "b15fae19-beab-4bb6-9b82-46dd8d73a956",
   "metadata": {
    "tags": []
   },
   "source": [
    "Tuple \n",
    "-> Elements in a tuple are enclosed within parenthesis\n",
    "-> Tuple is immutable, i.e,  once we create the tuple it cannot be further modified."
   ]
  },
  {
   "cell_type": "code",
   "execution_count": 1,
   "id": "92c826e8-84a3-4bfc-9cba-b9552d50c981",
   "metadata": {},
   "outputs": [
    {
     "data": {
      "text/plain": [
       "(1, 13.6, 'hi', 12, 1)"
      ]
     },
     "execution_count": 1,
     "metadata": {},
     "output_type": "execute_result"
    }
   ],
   "source": [
    "t=(1,13.6,\"hi\",12,1)\n",
    "t"
   ]
  },
  {
   "cell_type": "code",
   "execution_count": 2,
   "id": "c9ebcb28-9a65-4239-8650-c88d29b20aa9",
   "metadata": {},
   "outputs": [
    {
     "data": {
      "text/plain": [
       "tuple"
      ]
     },
     "execution_count": 2,
     "metadata": {},
     "output_type": "execute_result"
    }
   ],
   "source": [
    "type(t)"
   ]
  },
  {
   "cell_type": "code",
   "execution_count": 3,
   "id": "fc2c790e-7647-4571-b661-2697ace3db7c",
   "metadata": {},
   "outputs": [
    {
     "data": {
      "text/plain": [
       "1"
      ]
     },
     "execution_count": 3,
     "metadata": {},
     "output_type": "execute_result"
    }
   ],
   "source": [
    "t[0]"
   ]
  },
  {
   "cell_type": "code",
   "execution_count": 4,
   "id": "61b91d39-0d69-4b1d-8e5f-a6643bd062bf",
   "metadata": {},
   "outputs": [
    {
     "ename": "IndexError",
     "evalue": "tuple index out of range",
     "output_type": "error",
     "traceback": [
      "\u001b[1;31m---------------------------------------------------------------------------\u001b[0m",
      "\u001b[1;31mIndexError\u001b[0m                                Traceback (most recent call last)",
      "Cell \u001b[1;32mIn[4], line 1\u001b[0m\n\u001b[1;32m----> 1\u001b[0m \u001b[43mt\u001b[49m\u001b[43m[\u001b[49m\u001b[38;5;241;43m10\u001b[39;49m\u001b[43m]\u001b[49m\n",
      "\u001b[1;31mIndexError\u001b[0m: tuple index out of range"
     ]
    }
   ],
   "source": [
    "t[10]\n"
   ]
  },
  {
   "cell_type": "markdown",
   "id": "5f838fd6-91a6-4cbb-a575-5eb90dc44a04",
   "metadata": {},
   "source": [
    "-> Indexing is also applicable in tuples"
   ]
  },
  {
   "cell_type": "code",
   "execution_count": null,
   "id": "a82d3271-dbab-44d4-877f-f38c094df298",
   "metadata": {},
   "outputs": [],
   "source": []
  }
 ],
 "metadata": {
  "kernelspec": {
   "display_name": "Python 3 (ipykernel)",
   "language": "python",
   "name": "python3"
  },
  "language_info": {
   "codemirror_mode": {
    "name": "ipython",
    "version": 3
   },
   "file_extension": ".py",
   "mimetype": "text/x-python",
   "name": "python",
   "nbconvert_exporter": "python",
   "pygments_lexer": "ipython3",
   "version": "3.11.1"
  }
 },
 "nbformat": 4,
 "nbformat_minor": 5
}
