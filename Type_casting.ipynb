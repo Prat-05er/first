{
 "cells": [
  {
   "cell_type": "markdown",
   "id": "f50fd1b0-79d8-40a1-bbe7-ad1de93367d3",
   "metadata": {},
   "source": [
    "### Type casting in python"
   ]
  },
  {
   "cell_type": "markdown",
   "id": "11a8ce80-28fc-4309-bdf8-51c7592a6aa1",
   "metadata": {},
   "source": [
    "-> There are 2 ways to convert a datatype to another in python\n",
    "   \n",
    "    a) Implicit Type casting : When datatype conversion is done by python interpreter without any instuction\n",
    "                               from user.\n",
    "                               \n",
    "    b) Explicit Type casting : When conversion from one datatype to another is forced by the user.\n"
   ]
  },
  {
   "cell_type": "markdown",
   "id": "9a37470e-9057-4345-b2e8-3c64649f8089",
   "metadata": {},
   "source": [
    "#### Implicit casting example"
   ]
  },
  {
   "cell_type": "code",
   "execution_count": 3,
   "id": "fde34829-e9a0-4261-b080-693fba032acc",
   "metadata": {},
   "outputs": [
    {
     "name": "stdout",
     "output_type": "stream",
     "text": [
      "11.5\n"
     ]
    }
   ],
   "source": [
    "x=2.5\n",
    "y=9\n",
    "z=x+y\n",
    "print(z)"
   ]
  },
  {
   "cell_type": "code",
   "execution_count": 4,
   "id": "b450f71a-8944-4877-8bd3-f24ce0dc5f36",
   "metadata": {},
   "outputs": [
    {
     "data": {
      "text/plain": [
       "float"
      ]
     },
     "execution_count": 4,
     "metadata": {},
     "output_type": "execute_result"
    }
   ],
   "source": [
    "type(z)"
   ]
  },
  {
   "cell_type": "code",
   "execution_count": 6,
   "id": "79e01f96-b4b2-4e5d-9fe9-8125609e0a2f",
   "metadata": {},
   "outputs": [],
   "source": [
    "x=10\n",
    "y=2\n",
    "z=x/y"
   ]
  },
  {
   "cell_type": "code",
   "execution_count": 7,
   "id": "15caafce-6bdc-4524-bd2c-2af5beb3c235",
   "metadata": {},
   "outputs": [
    {
     "name": "stdout",
     "output_type": "stream",
     "text": [
      "5.0\n"
     ]
    }
   ],
   "source": [
    "print(z)"
   ]
  },
  {
   "cell_type": "code",
   "execution_count": 8,
   "id": "bb0f05ee-3416-4766-aae1-27f34c526f55",
   "metadata": {},
   "outputs": [
    {
     "data": {
      "text/plain": [
       "float"
      ]
     },
     "execution_count": 8,
     "metadata": {},
     "output_type": "execute_result"
    }
   ],
   "source": [
    "type(z)"
   ]
  },
  {
   "cell_type": "markdown",
   "id": "540faaa9-a8aa-4ae5-a96e-1864cb3e343f",
   "metadata": {},
   "source": [
    "### Explicit type casting example"
   ]
  },
  {
   "cell_type": "code",
   "execution_count": 25,
   "id": "d122f3a3-1e73-4a46-bcc2-2ee308683046",
   "metadata": {},
   "outputs": [
    {
     "name": "stdout",
     "output_type": "stream",
     "text": [
      "12\n"
     ]
    }
   ],
   "source": [
    "x=\"5\"\n",
    "y=7\n",
    "z=int(x)+y\n",
    "print(z)"
   ]
  },
  {
   "cell_type": "code",
   "execution_count": 10,
   "id": "55e7251f-e58d-4241-abee-9889780b81b2",
   "metadata": {},
   "outputs": [
    {
     "data": {
      "text/plain": [
       "int"
      ]
     },
     "execution_count": 10,
     "metadata": {},
     "output_type": "execute_result"
    }
   ],
   "source": [
    "type(z)"
   ]
  },
  {
   "cell_type": "markdown",
   "id": "c1e4c915-edf9-4fe2-bf2d-29847f9b37f1",
   "metadata": {},
   "source": [
    "### Checking for different explicit type castings"
   ]
  },
  {
   "cell_type": "code",
   "execution_count": 11,
   "id": "a469cf52-a7a7-4790-9776-fc4bda9bd755",
   "metadata": {},
   "outputs": [
    {
     "data": {
      "text/plain": [
       "True"
      ]
     },
     "execution_count": 11,
     "metadata": {},
     "output_type": "execute_result"
    }
   ],
   "source": [
    "x=5\n",
    "y=bool(x)\n",
    "y"
   ]
  },
  {
   "cell_type": "markdown",
   "id": "966ad650-0630-421f-aff8-1f89ef94a598",
   "metadata": {},
   "source": [
    "it is possible to convert int to boolean"
   ]
  },
  {
   "cell_type": "code",
   "execution_count": 12,
   "id": "303d2a7d-d099-410e-89b8-c06a4f3c7393",
   "metadata": {},
   "outputs": [
    {
     "data": {
      "text/plain": [
       "'5'"
      ]
     },
     "execution_count": 12,
     "metadata": {},
     "output_type": "execute_result"
    }
   ],
   "source": [
    "x=5\n",
    "y=str(x)\n",
    "y"
   ]
  },
  {
   "cell_type": "markdown",
   "id": "403f4ac7-6071-4721-9dee-fe875e9b4af4",
   "metadata": {},
   "source": [
    "Hence it is possible to convert int to string"
   ]
  },
  {
   "cell_type": "code",
   "execution_count": 13,
   "id": "0aeae8b4-cb06-401e-9b5a-b4e181a7f061",
   "metadata": {},
   "outputs": [
    {
     "data": {
      "text/plain": [
       "5.0"
      ]
     },
     "execution_count": 13,
     "metadata": {},
     "output_type": "execute_result"
    }
   ],
   "source": [
    "x=5\n",
    "y=float(x)\n",
    "y"
   ]
  },
  {
   "cell_type": "markdown",
   "id": "f7e6876a-aa44-4288-b081-7f967711695a",
   "metadata": {},
   "source": [
    "Hence int to float conversion is also possible"
   ]
  },
  {
   "cell_type": "code",
   "execution_count": 14,
   "id": "855fbb3a-e486-4f87-8980-1efa16143d55",
   "metadata": {},
   "outputs": [
    {
     "data": {
      "text/plain": [
       "1"
      ]
     },
     "execution_count": 14,
     "metadata": {},
     "output_type": "execute_result"
    }
   ],
   "source": [
    "b=True\n",
    "a=int(b)\n",
    "a"
   ]
  },
  {
   "cell_type": "markdown",
   "id": "2cbcb05c-2cae-40df-962b-263ec1b99b93",
   "metadata": {},
   "source": [
    "Hence conversion from boolean to int is also possible in python"
   ]
  },
  {
   "cell_type": "code",
   "execution_count": 15,
   "id": "9f9150cc-bd8d-4666-838e-d6f0a017700e",
   "metadata": {},
   "outputs": [
    {
     "ename": "ValueError",
     "evalue": "invalid literal for int() with base 10: 'alpha'",
     "output_type": "error",
     "traceback": [
      "\u001b[1;31m---------------------------------------------------------------------------\u001b[0m",
      "\u001b[1;31mValueError\u001b[0m                                Traceback (most recent call last)",
      "Cell \u001b[1;32mIn[15], line 2\u001b[0m\n\u001b[0;32m      1\u001b[0m a\u001b[38;5;241m=\u001b[39m\u001b[38;5;124m\"\u001b[39m\u001b[38;5;124malpha\u001b[39m\u001b[38;5;124m\"\u001b[39m\n\u001b[1;32m----> 2\u001b[0m b\u001b[38;5;241m=\u001b[39m\u001b[38;5;28;43mint\u001b[39;49m\u001b[43m(\u001b[49m\u001b[43ma\u001b[49m\u001b[43m)\u001b[49m\n\u001b[0;32m      3\u001b[0m b\n",
      "\u001b[1;31mValueError\u001b[0m: invalid literal for int() with base 10: 'alpha'"
     ]
    }
   ],
   "source": [
    "a=\"alpha\"\n",
    "b=int(a)\n",
    "b"
   ]
  },
  {
   "cell_type": "code",
   "execution_count": 17,
   "id": "b4c7b002-d26b-4fd2-8e40-1e937b2b9d5d",
   "metadata": {},
   "outputs": [
    {
     "data": {
      "text/plain": [
       "7987"
      ]
     },
     "execution_count": 17,
     "metadata": {},
     "output_type": "execute_result"
    }
   ],
   "source": [
    "a=\"7987\"\n",
    "b=int(a)\n",
    "b"
   ]
  },
  {
   "cell_type": "markdown",
   "id": "a66be2f0-5ee0-4885-897d-9c5200d03b70",
   "metadata": {},
   "source": [
    "hence, conversion from string to int is possible only if the characters inside string are numeric"
   ]
  },
  {
   "cell_type": "code",
   "execution_count": 19,
   "id": "38893d10-7772-4de3-ae55-0fd97c43cce6",
   "metadata": {},
   "outputs": [
    {
     "data": {
      "text/plain": [
       "8"
      ]
     },
     "execution_count": 19,
     "metadata": {},
     "output_type": "execute_result"
    }
   ],
   "source": [
    "a=8.90\n",
    "b=int(a)\n",
    "b"
   ]
  },
  {
   "cell_type": "markdown",
   "id": "823cbdfd-3b53-4937-8b76-f347a3de124a",
   "metadata": {},
   "source": [
    "hence, conversion from float to int is also possible"
   ]
  },
  {
   "cell_type": "code",
   "execution_count": 20,
   "id": "c01e1fe6-0ea8-47ad-b77b-7b5505814979",
   "metadata": {},
   "outputs": [
    {
     "data": {
      "text/plain": [
       "'False'"
      ]
     },
     "execution_count": 20,
     "metadata": {},
     "output_type": "execute_result"
    }
   ],
   "source": [
    "a=False\n",
    "b=str(a)\n",
    "b"
   ]
  },
  {
   "cell_type": "markdown",
   "id": "dfc5e33e-5926-4cd7-ac31-5386b312e48f",
   "metadata": {},
   "source": [
    "hence boolean to string casting is also possible"
   ]
  },
  {
   "cell_type": "code",
   "execution_count": 21,
   "id": "b885d59c-556e-47f7-bc0e-a8fe4b23a28a",
   "metadata": {},
   "outputs": [
    {
     "data": {
      "text/plain": [
       "0.0"
      ]
     },
     "execution_count": 21,
     "metadata": {},
     "output_type": "execute_result"
    }
   ],
   "source": [
    "a=False\n",
    "b=float(a)\n",
    "b"
   ]
  },
  {
   "cell_type": "markdown",
   "id": "0ec80273-3573-4202-931e-f97cb14cc132",
   "metadata": {},
   "source": [
    "hence boolean to float casting is also possible"
   ]
  },
  {
   "cell_type": "code",
   "execution_count": 22,
   "id": "640d2c0c-6fc4-415e-85c2-e17b36100383",
   "metadata": {},
   "outputs": [
    {
     "data": {
      "text/plain": [
       "0.0"
      ]
     },
     "execution_count": 22,
     "metadata": {},
     "output_type": "execute_result"
    }
   ],
   "source": [
    "a=False\n",
    "b=float(a)\n",
    "b"
   ]
  }
 ],
 "metadata": {
  "kernelspec": {
   "display_name": "Python 3 (ipykernel)",
   "language": "python",
   "name": "python3"
  },
  "language_info": {
   "codemirror_mode": {
    "name": "ipython",
    "version": 3
   },
   "file_extension": ".py",
   "mimetype": "text/x-python",
   "name": "python",
   "nbconvert_exporter": "python",
   "pygments_lexer": "ipython3",
   "version": "3.11.1"
  }
 },
 "nbformat": 4,
 "nbformat_minor": 5
}
