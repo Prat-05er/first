{
 "cells": [
  {
   "cell_type": "markdown",
   "id": "58f69817-ebe0-43a3-8baa-e8d0106d3f0b",
   "metadata": {
    "tags": []
   },
   "source": [
    "#### Variable : It is a container that stores values/data.\n",
    "-> multiple variables can be assigned same value"
   ]
  },
  {
   "cell_type": "code",
   "execution_count": 1,
   "id": "33b90801-34a7-422a-9b54-984fede96571",
   "metadata": {},
   "outputs": [
    {
     "data": {
      "text/plain": [
       "'pratyush'"
      ]
     },
     "execution_count": 1,
     "metadata": {},
     "output_type": "execute_result"
    }
   ],
   "source": [
    "name=\"pratyush\"\n",
    "name"
   ]
  },
  {
   "cell_type": "code",
   "execution_count": 2,
   "id": "20cb643f-4e01-43b4-8932-55352c5260ca",
   "metadata": {},
   "outputs": [
    {
     "data": {
      "text/plain": [
       "'24'"
      ]
     },
     "execution_count": 2,
     "metadata": {},
     "output_type": "execute_result"
    }
   ],
   "source": [
    "age=\"24\"\n",
    "age"
   ]
  },
  {
   "cell_type": "code",
   "execution_count": 3,
   "id": "73c3363d-eff9-40cd-9d27-153ed8eecd0d",
   "metadata": {},
   "outputs": [
    {
     "data": {
      "text/plain": [
       "10"
      ]
     },
     "execution_count": 3,
     "metadata": {},
     "output_type": "execute_result"
    }
   ],
   "source": [
    "a=b=10\n",
    "a\n",
    "b"
   ]
  },
  {
   "cell_type": "code",
   "execution_count": 4,
   "id": "0adde09e-addf-4d1f-a8b1-0108e7e9cef4",
   "metadata": {},
   "outputs": [
    {
     "data": {
      "text/plain": [
       "10"
      ]
     },
     "execution_count": 4,
     "metadata": {},
     "output_type": "execute_result"
    }
   ],
   "source": [
    "b"
   ]
  },
  {
   "cell_type": "markdown",
   "id": "8521e7e1-bb71-4306-9793-ca31555cbe67",
   "metadata": {},
   "source": [
    "### In case a variable is assigned another value in next line of code, it will override its previous value"
   ]
  },
  {
   "cell_type": "code",
   "execution_count": 5,
   "id": "fdba0a06-3955-49f7-8449-79a0135ebd79",
   "metadata": {},
   "outputs": [
    {
     "data": {
      "text/plain": [
       "90"
      ]
     },
     "execution_count": 5,
     "metadata": {},
     "output_type": "execute_result"
    }
   ],
   "source": [
    "x=10\n",
    "x=90\n",
    "x"
   ]
  },
  {
   "cell_type": "code",
   "execution_count": 6,
   "id": "ea677ac8-00bd-4f56-a629-517435a3f6f8",
   "metadata": {},
   "outputs": [
    {
     "data": {
      "text/plain": [
       "170"
      ]
     },
     "execution_count": 6,
     "metadata": {},
     "output_type": "execute_result"
    }
   ],
   "source": [
    "y=80\n",
    "x+y"
   ]
  },
  {
   "cell_type": "code",
   "execution_count": 7,
   "id": "c3b00672-e36f-4482-a11f-4cfad4591a3e",
   "metadata": {},
   "outputs": [
    {
     "data": {
      "text/plain": [
       "int"
      ]
     },
     "execution_count": 7,
     "metadata": {},
     "output_type": "execute_result"
    }
   ],
   "source": [
    "type(x+y)"
   ]
  },
  {
   "cell_type": "code",
   "execution_count": 8,
   "id": "46986e5c-7978-412b-98e8-8c9161764ed8",
   "metadata": {},
   "outputs": [
    {
     "data": {
      "text/plain": [
       "str"
      ]
     },
     "execution_count": 8,
     "metadata": {},
     "output_type": "execute_result"
    }
   ],
   "source": [
    "type(name)\n"
   ]
  },
  {
   "cell_type": "markdown",
   "id": "5535018a-50ef-4e21-a4f0-349fa22c5ee8",
   "metadata": {},
   "source": [
    "we can simultaneously assign values to different variables as well"
   ]
  },
  {
   "cell_type": "code",
   "execution_count": 10,
   "id": "bb49989c-4079-4d7f-96a4-9af46d5d19ec",
   "metadata": {},
   "outputs": [
    {
     "data": {
      "text/plain": [
       "1"
      ]
     },
     "execution_count": 10,
     "metadata": {},
     "output_type": "execute_result"
    }
   ],
   "source": [
    "a,b,c=1,2,3\n",
    "a"
   ]
  },
  {
   "cell_type": "code",
   "execution_count": 11,
   "id": "3804e0f7-9be3-40bc-8b9a-a1e22b5c4451",
   "metadata": {},
   "outputs": [
    {
     "data": {
      "text/plain": [
       "2"
      ]
     },
     "execution_count": 11,
     "metadata": {},
     "output_type": "execute_result"
    }
   ],
   "source": [
    "b"
   ]
  },
  {
   "cell_type": "code",
   "execution_count": 12,
   "id": "b6315e12-d3a8-46fe-8e33-aa21df030b30",
   "metadata": {},
   "outputs": [
    {
     "data": {
      "text/plain": [
       "3"
      ]
     },
     "execution_count": 12,
     "metadata": {},
     "output_type": "execute_result"
    }
   ],
   "source": [
    "c"
   ]
  },
  {
   "cell_type": "markdown",
   "id": "a62ebf0c-4d75-4244-8f4b-d4f56c0f18f5",
   "metadata": {},
   "source": [
    "#### Rules for naming variables"
   ]
  },
  {
   "cell_type": "markdown",
   "id": "1a0df478-f88c-46f9-b7dc-145f9709f335",
   "metadata": {},
   "source": [
    "1) A variable name should not have spaces ."
   ]
  },
  {
   "cell_type": "markdown",
   "id": "51e39dde-a9dc-40b4-bc68-e9794437582f",
   "metadata": {},
   "source": [
    "2) An underscore is the only allowed special character in a variable name."
   ]
  },
  {
   "cell_type": "markdown",
   "id": "260a36c1-34e2-41ad-a96d-ac987e53b1d3",
   "metadata": {},
   "source": [
    "3) A variable name cannot begin with a number."
   ]
  }
 ],
 "metadata": {
  "kernelspec": {
   "display_name": "Python 3 (ipykernel)",
   "language": "python",
   "name": "python3"
  },
  "language_info": {
   "codemirror_mode": {
    "name": "ipython",
    "version": 3
   },
   "file_extension": ".py",
   "mimetype": "text/x-python",
   "name": "python",
   "nbconvert_exporter": "python",
   "pygments_lexer": "ipython3",
   "version": "3.11.1"
  }
 },
 "nbformat": 4,
 "nbformat_minor": 5
}
