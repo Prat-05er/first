{
 "cells": [
  {
   "cell_type": "markdown",
   "id": "61cce9b7-9efc-4496-aef1-8da85282d9d1",
   "metadata": {},
   "source": [
    "Dictionary\n",
    "-> it is a (key,value) pair data structure\n",
    "-> It is not indexed, any element can be retrived using keys\n",
    "-> Key is unique, if two same name keys are added, the dictionary will show the latest one\n",
    "-> values can be duplicated\n",
    "-> dictionary is mutable"
   ]
  },
  {
   "cell_type": "code",
   "execution_count": 1,
   "id": "be2c11ef-633c-4d1a-94e9-a9ddbd50cf89",
   "metadata": {},
   "outputs": [
    {
     "data": {
      "text/plain": [
       "{1: 'apple', 2: 'every', 3: 'data', 6: '35.4', 7: 35.4}"
      ]
     },
     "execution_count": 1,
     "metadata": {},
     "output_type": "execute_result"
    }
   ],
   "source": [
    "d={1:\"apple\",2:35.4,3:\"data\",2:\"every\",6:\"35.4\",7:35.4}\n",
    "d"
   ]
  },
  {
   "cell_type": "markdown",
   "id": "2b5ef970-d79d-4183-842e-13b15b1a790e",
   "metadata": {},
   "source": [
    "an element can be accessed using key, for example :"
   ]
  },
  {
   "cell_type": "code",
   "execution_count": 2,
   "id": "7219f803-32b1-4fbb-8b25-7bfeafd8cc76",
   "metadata": {},
   "outputs": [
    {
     "data": {
      "text/plain": [
       "'apple'"
      ]
     },
     "execution_count": 2,
     "metadata": {},
     "output_type": "execute_result"
    }
   ],
   "source": [
    "d[1]"
   ]
  },
  {
   "cell_type": "markdown",
   "id": "f4a26268-5383-46f5-9861-375dd0c46446",
   "metadata": {},
   "source": [
    "new values can be assigned to an existing key or new (key : value) pair can be added to a dictionary"
   ]
  },
  {
   "cell_type": "code",
   "execution_count": 3,
   "id": "48cc0542-ed64-4109-9f82-a70885ce0acb",
   "metadata": {},
   "outputs": [],
   "source": [
    "d[7]=100\n",
    "d[10]=\"Business\""
   ]
  },
  {
   "cell_type": "code",
   "execution_count": 4,
   "id": "bc4b7f62-c1d0-43d3-b096-204401dc27d8",
   "metadata": {},
   "outputs": [
    {
     "data": {
      "text/plain": [
       "{1: 'apple', 2: 'every', 3: 'data', 6: '35.4', 7: 100, 10: 'Business'}"
      ]
     },
     "execution_count": 4,
     "metadata": {},
     "output_type": "execute_result"
    }
   ],
   "source": [
    "d"
   ]
  },
  {
   "cell_type": "code",
   "execution_count": null,
   "id": "69c68de7-4504-490f-b811-1bcd68129210",
   "metadata": {},
   "outputs": [],
   "source": []
  }
 ],
 "metadata": {
  "kernelspec": {
   "display_name": "Python 3 (ipykernel)",
   "language": "python",
   "name": "python3"
  },
  "language_info": {
   "codemirror_mode": {
    "name": "ipython",
    "version": 3
   },
   "file_extension": ".py",
   "mimetype": "text/x-python",
   "name": "python",
   "nbconvert_exporter": "python",
   "pygments_lexer": "ipython3",
   "version": "3.11.1"
  }
 },
 "nbformat": 4,
 "nbformat_minor": 5
}
