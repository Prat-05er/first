{
 "cells": [
  {
   "cell_type": "markdown",
   "id": "948feaae-b418-4e09-801b-e1bcfa72a7cd",
   "metadata": {},
   "source": [
    "Set \n",
    "-> contents of a set are enclosed within curly brackets\n",
    "-> set is mutable datatype\n",
    "-> elements of a set are sorted according to :\n",
    "    a) numerical first, string after \n",
    "    b) according to first character\n",
    "-> set is not indexed\n",
    "-> set is heterogenous"
   ]
  },
  {
   "cell_type": "code",
   "execution_count": 4,
   "id": "a1744fc3-345e-4cb5-b25a-aaccb2d0b836",
   "metadata": {},
   "outputs": [
    {
     "data": {
      "text/plain": [
       "{1, 12, 127, 13.6, 25, 'apple', 'ball', 'hi', 'king'}"
      ]
     },
     "execution_count": 4,
     "metadata": {},
     "output_type": "execute_result"
    }
   ],
   "source": [
    "s={1,13.6,\"hi\",12,1,127,25,25,\"apple\",\"king\",\"ball\"}\n",
    "s"
   ]
  },
  {
   "cell_type": "code",
   "execution_count": 5,
   "id": "baf9084a-8b3a-4719-9bdf-a8c4e72d6b09",
   "metadata": {},
   "outputs": [
    {
     "data": {
      "text/plain": [
       "{False, True}"
      ]
     },
     "execution_count": 5,
     "metadata": {},
     "output_type": "execute_result"
    }
   ],
   "source": [
    "l={True,False}\n",
    "l"
   ]
  },
  {
   "cell_type": "markdown",
   "id": "4c1755d9-0c64-48d4-ad3b-5cc8b0c3ae1a",
   "metadata": {},
   "source": [
    "Adding elements in a set"
   ]
  },
  {
   "cell_type": "code",
   "execution_count": 6,
   "id": "def07aed-545f-437c-a5c6-8c66d5e2f649",
   "metadata": {},
   "outputs": [],
   "source": [
    "s.add(1000)"
   ]
  },
  {
   "cell_type": "code",
   "execution_count": 7,
   "id": "3686b9ce-796f-4a20-bb0a-725a7bffafda",
   "metadata": {},
   "outputs": [],
   "source": [
    "s.remove(\"hi\")"
   ]
  },
  {
   "cell_type": "code",
   "execution_count": 8,
   "id": "77bee8ec-2753-46da-b28a-406b60146738",
   "metadata": {},
   "outputs": [
    {
     "data": {
      "text/plain": [
       "{1, 1000, 12, 127, 13.6, 25, 'apple', 'ball', 'king'}"
      ]
     },
     "execution_count": 8,
     "metadata": {},
     "output_type": "execute_result"
    }
   ],
   "source": [
    "s"
   ]
  }
 ],
 "metadata": {
  "kernelspec": {
   "display_name": "Python 3 (ipykernel)",
   "language": "python",
   "name": "python3"
  },
  "language_info": {
   "codemirror_mode": {
    "name": "ipython",
    "version": 3
   },
   "file_extension": ".py",
   "mimetype": "text/x-python",
   "name": "python",
   "nbconvert_exporter": "python",
   "pygments_lexer": "ipython3",
   "version": "3.11.1"
  }
 },
 "nbformat": 4,
 "nbformat_minor": 5
}
