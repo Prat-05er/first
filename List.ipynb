{
 "cells": [
  {
   "cell_type": "markdown",
   "id": "a7f1bcf0-a443-4d59-8003-ae5a00263887",
   "metadata": {},
   "source": [
    "Lists in Python\n",
    "\n",
    "-> Lists are heterogenous,i.e, they allow multiple datatypes\n",
    "-> In lists, elements are comma seperated and enclosed with square brackets\n",
    "-> Lists are mutable, i.e, the values stored in the lists can be changed/deleted."
   ]
  },
  {
   "cell_type": "code",
   "execution_count": 1,
   "id": "d4d81c1e-9752-4ad3-80eb-7c38af26b353",
   "metadata": {},
   "outputs": [
    {
     "data": {
      "text/plain": [
       "[1, 13.6, 'hi', 12, 1]"
      ]
     },
     "execution_count": 1,
     "metadata": {},
     "output_type": "execute_result"
    }
   ],
   "source": [
    "l=[1,13.6,\"hi\",12,1]\n",
    "l"
   ]
  },
  {
   "cell_type": "code",
   "execution_count": 2,
   "id": "a42ee8d0-578c-4f9a-be82-ff73c6b48245",
   "metadata": {},
   "outputs": [
    {
     "data": {
      "text/plain": [
       "12"
      ]
     },
     "execution_count": 2,
     "metadata": {},
     "output_type": "execute_result"
    }
   ],
   "source": [
    "l[3]"
   ]
  },
  {
   "cell_type": "code",
   "execution_count": 3,
   "id": "27394f3f-0023-4d0d-a711-c38c77deedf5",
   "metadata": {},
   "outputs": [
    {
     "ename": "IndexError",
     "evalue": "list index out of range",
     "output_type": "error",
     "traceback": [
      "\u001b[1;31m---------------------------------------------------------------------------\u001b[0m",
      "\u001b[1;31mIndexError\u001b[0m                                Traceback (most recent call last)",
      "Cell \u001b[1;32mIn[3], line 1\u001b[0m\n\u001b[1;32m----> 1\u001b[0m \u001b[43ml\u001b[49m\u001b[43m[\u001b[49m\u001b[38;5;241;43m10\u001b[39;49m\u001b[43m]\u001b[49m\n",
      "\u001b[1;31mIndexError\u001b[0m: list index out of range"
     ]
    }
   ],
   "source": [
    "l[10]\n"
   ]
  },
  {
   "cell_type": "markdown",
   "id": "f3cc27f6-a923-48bd-a72d-886cd01c8ce3",
   "metadata": {},
   "source": [
    " Lists have indices assigned to each element present. If we try to give an index that is \n",
    "-> larger than the length, it will give error."
   ]
  },
  {
   "cell_type": "code",
   "execution_count": 4,
   "id": "2c7b98f3-b03a-4418-aeb1-006c2055cf65",
   "metadata": {},
   "outputs": [
    {
     "data": {
      "text/plain": [
       "13.6"
      ]
     },
     "execution_count": 4,
     "metadata": {},
     "output_type": "execute_result"
    }
   ],
   "source": [
    "l[-4]\n"
   ]
  },
  {
   "cell_type": "code",
   "execution_count": 5,
   "id": "6e596ab8-5db6-4f86-99f2-037337db01d5",
   "metadata": {},
   "outputs": [],
   "source": [
    "l[0]=100"
   ]
  },
  {
   "cell_type": "code",
   "execution_count": 6,
   "id": "a11978cc-4913-40e5-a861-aef26254f798",
   "metadata": {},
   "outputs": [
    {
     "data": {
      "text/plain": [
       "[100, 13.6, 'hi', 12, 1]"
      ]
     },
     "execution_count": 6,
     "metadata": {},
     "output_type": "execute_result"
    }
   ],
   "source": [
    "l"
   ]
  }
 ],
 "metadata": {
  "kernelspec": {
   "display_name": "Python 3 (ipykernel)",
   "language": "python",
   "name": "python3"
  },
  "language_info": {
   "codemirror_mode": {
    "name": "ipython",
    "version": 3
   },
   "file_extension": ".py",
   "mimetype": "text/x-python",
   "name": "python",
   "nbconvert_exporter": "python",
   "pygments_lexer": "ipython3",
   "version": "3.11.1"
  }
 },
 "nbformat": 4,
 "nbformat_minor": 5
}
