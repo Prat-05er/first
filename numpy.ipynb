{
 "cells": [
  {
   "cell_type": "markdown",
   "id": "861092e9-fb2a-4250-8bae-c6205e40d518",
   "metadata": {},
   "source": [
    "### Numpy : Package for multi dimensional array"
   ]
  },
  {
   "cell_type": "markdown",
   "id": "c7046c3f-7201-4af7-9695-f5a08958da6b",
   "metadata": {},
   "source": [
    "-> For seeing syntax of any method use shift + tab"
   ]
  },
  {
   "cell_type": "code",
   "execution_count": 3,
   "id": "cb841391-5f96-4e14-89e4-739f7793bc22",
   "metadata": {},
   "outputs": [],
   "source": [
    "import numpy as np"
   ]
  },
  {
   "cell_type": "code",
   "execution_count": null,
   "id": "1789dd6e-d437-4e44-b0b2-b7096b5f5b39",
   "metadata": {},
   "outputs": [],
   "source": [
    "### whenever we do indexing/slicing , i.e , when we use lists, we use square brackets \"[]\""
   ]
  },
  {
   "cell_type": "code",
   "execution_count": null,
   "id": "33abb5e7-a9ba-4aa2-8b18-e797b7702a3e",
   "metadata": {},
   "outputs": [],
   "source": [
    "### in all other cases we use parenthesis \"()\""
   ]
  },
  {
   "cell_type": "markdown",
   "id": "acc675d7-1c36-4e4c-aed5-a9dff5e6400f",
   "metadata": {},
   "source": [
    "##### Creating an array using numpy"
   ]
  },
  {
   "cell_type": "code",
   "execution_count": 2,
   "id": "3d71b170-3df9-42cb-8005-00e0f6ff717c",
   "metadata": {},
   "outputs": [
    {
     "data": {
      "text/plain": [
       "array([1, 2, 3, 4, 5, 6])"
      ]
     },
     "execution_count": 2,
     "metadata": {},
     "output_type": "execute_result"
    }
   ],
   "source": [
    "a=np.array([1,2,3,4,5,6])\n",
    "a"
   ]
  },
  {
   "cell_type": "code",
   "execution_count": 3,
   "id": "19fa73f2-a192-4307-8587-be816f4ddf20",
   "metadata": {},
   "outputs": [
    {
     "data": {
      "text/plain": [
       "array([[1, 2, 3],\n",
       "       [4, 5, 6],\n",
       "       [7, 8, 9]])"
      ]
     },
     "execution_count": 3,
     "metadata": {},
     "output_type": "execute_result"
    }
   ],
   "source": [
    "list_of_lists=[[1,2,3],[4,5,6],[7,8,9]]\n",
    "np.array(list_of_lists)"
   ]
  },
  {
   "cell_type": "markdown",
   "id": "41c3282a-1ced-4189-b124-e41f5af26c2b",
   "metadata": {},
   "source": [
    "------------------------------------------------------------------------------------------------------------------------"
   ]
  },
  {
   "cell_type": "markdown",
   "id": "7c2c734b-2693-4ee9-ab64-b84c515d29b6",
   "metadata": {},
   "source": [
    "##### arange() method in Numpy"
   ]
  },
  {
   "cell_type": "code",
   "execution_count": 4,
   "id": "db8329a0-a022-4250-bf03-52f31fb1055e",
   "metadata": {},
   "outputs": [
    {
     "data": {
      "text/plain": [
       "array([1, 2, 3, 4, 5, 6, 7, 8, 9])"
      ]
     },
     "execution_count": 4,
     "metadata": {},
     "output_type": "execute_result"
    }
   ],
   "source": [
    "np.arange(1,10)"
   ]
  },
  {
   "cell_type": "code",
   "execution_count": 5,
   "id": "7e5ce11a-a3a5-4200-9873-250b9b8bb284",
   "metadata": {},
   "outputs": [
    {
     "data": {
      "text/plain": [
       "array([ 0,  1,  2,  3,  4,  5,  6,  7,  8,  9, 10, 11, 12, 13, 14, 15, 16,\n",
       "       17, 18, 19])"
      ]
     },
     "execution_count": 5,
     "metadata": {},
     "output_type": "execute_result"
    }
   ],
   "source": [
    "np.arange(20)"
   ]
  },
  {
   "cell_type": "code",
   "execution_count": 6,
   "id": "e563058a-f3f8-4bc0-864f-94152b4e6efd",
   "metadata": {},
   "outputs": [
    {
     "data": {
      "text/plain": [
       "array([ 1,  6, 11, 16, 21, 26, 31, 36, 41])"
      ]
     },
     "execution_count": 6,
     "metadata": {},
     "output_type": "execute_result"
    }
   ],
   "source": [
    "np.arange(1,46,5)"
   ]
  },
  {
   "cell_type": "markdown",
   "id": "06b0e8ba-56a8-43ad-84a6-eb8fb40e9b7f",
   "metadata": {},
   "source": [
    "The arange() method has a start, a stop and a step parameter. default start value is 0, default step value is 1."
   ]
  },
  {
   "cell_type": "markdown",
   "id": "e01e5b19-2992-40cc-99bd-d3a81499ccb2",
   "metadata": {},
   "source": [
    "------------------------------------------------------------------------------------------------------------------------"
   ]
  },
  {
   "cell_type": "markdown",
   "id": "7d134f83-309a-43d0-bd21-ed4aa590d0d3",
   "metadata": {},
   "source": [
    "##### zeros() method in NumPy"
   ]
  },
  {
   "cell_type": "code",
   "execution_count": 7,
   "id": "d1647700-3b2b-4fa7-9218-9752c7b69d51",
   "metadata": {},
   "outputs": [
    {
     "data": {
      "text/plain": [
       "array([0., 0., 0., 0., 0., 0., 0., 0., 0., 0.])"
      ]
     },
     "execution_count": 7,
     "metadata": {},
     "output_type": "execute_result"
    }
   ],
   "source": [
    "np.zeros(10)"
   ]
  },
  {
   "cell_type": "markdown",
   "id": "f6eb5325-b57f-4f70-9852-0f4d60d1f129",
   "metadata": {},
   "source": [
    "zeros() method prints an array of zeroes "
   ]
  },
  {
   "cell_type": "markdown",
   "id": "392a9ac0-112b-4685-8cc7-972832d91cc2",
   "metadata": {},
   "source": [
    "-> Default return data type is float"
   ]
  },
  {
   "cell_type": "markdown",
   "id": "fbfd73f6-a8fd-40db-bc3d-4d7a33bee640",
   "metadata": {},
   "source": [
    "-> We can change the return data type to integer, boolean or string"
   ]
  },
  {
   "cell_type": "code",
   "execution_count": 10,
   "id": "5ebe353e-3478-41ee-a1ff-94cef6f2a75b",
   "metadata": {},
   "outputs": [
    {
     "data": {
      "text/plain": [
       "array(['', '', '', '', ''], dtype='<U1')"
      ]
     },
     "execution_count": 10,
     "metadata": {},
     "output_type": "execute_result"
    }
   ],
   "source": [
    "np.zeros(5,dtype=str)"
   ]
  },
  {
   "cell_type": "code",
   "execution_count": 11,
   "id": "e4e555ad-1da1-43c5-9f33-3ddde4fd5619",
   "metadata": {},
   "outputs": [
    {
     "data": {
      "text/plain": [
       "array([0, 0, 0, 0, 0])"
      ]
     },
     "execution_count": 11,
     "metadata": {},
     "output_type": "execute_result"
    }
   ],
   "source": [
    "np.zeros(5,dtype=int)"
   ]
  },
  {
   "cell_type": "code",
   "execution_count": 12,
   "id": "c34d6f54-a6a2-4c48-a040-531130bea74a",
   "metadata": {},
   "outputs": [
    {
     "data": {
      "text/plain": [
       "array([False, False, False, False, False])"
      ]
     },
     "execution_count": 12,
     "metadata": {},
     "output_type": "execute_result"
    }
   ],
   "source": [
    "np.zeros(5,dtype=bool)"
   ]
  },
  {
   "cell_type": "markdown",
   "id": "7233ebf7-fcfd-4563-8502-e7a6fe2e2fed",
   "metadata": {},
   "source": [
    "we can also specify if we want rows and columns both in the array"
   ]
  },
  {
   "cell_type": "code",
   "execution_count": 15,
   "id": "1d01bac0-27b9-4d1a-8cda-36b0dcf7c41f",
   "metadata": {},
   "outputs": [
    {
     "data": {
      "text/plain": [
       "array([[0, 0, 0],\n",
       "       [0, 0, 0],\n",
       "       [0, 0, 0],\n",
       "       [0, 0, 0],\n",
       "       [0, 0, 0]])"
      ]
     },
     "execution_count": 15,
     "metadata": {},
     "output_type": "execute_result"
    }
   ],
   "source": [
    "np.zeros((5,3),dtype=int) #### 5 rows and 3 columns"
   ]
  },
  {
   "cell_type": "markdown",
   "id": "9b214b41-5241-4a28-adc6-cdcd98c1950e",
   "metadata": {},
   "source": [
    "------------------------------------------------------------------------------------------------------------------------"
   ]
  },
  {
   "cell_type": "markdown",
   "id": "5f18d40c-330d-4b2e-8527-adee34eb7a15",
   "metadata": {},
   "source": [
    "##### ones() method in NumPy"
   ]
  },
  {
   "cell_type": "markdown",
   "id": "e803bf8d-0313-4f01-84b7-9867866591e6",
   "metadata": {},
   "source": [
    "-> Similar to zeros() function, used to print an array having \"1\"s"
   ]
  },
  {
   "cell_type": "code",
   "execution_count": 19,
   "id": "57bced04-8819-40e1-9635-cfea7227a5c0",
   "metadata": {},
   "outputs": [
    {
     "data": {
      "text/plain": [
       "array([[ True,  True,  True,  True],\n",
       "       [ True,  True,  True,  True],\n",
       "       [ True,  True,  True,  True]])"
      ]
     },
     "execution_count": 19,
     "metadata": {},
     "output_type": "execute_result"
    }
   ],
   "source": [
    "np.ones((3,4),dtype=bool)"
   ]
  },
  {
   "cell_type": "code",
   "execution_count": 20,
   "id": "4b4f4716-dcf9-43ad-a58a-cd164d7f3d67",
   "metadata": {},
   "outputs": [
    {
     "data": {
      "text/plain": [
       "array([[1., 1., 1., 1., 1.],\n",
       "       [1., 1., 1., 1., 1.]])"
      ]
     },
     "execution_count": 20,
     "metadata": {},
     "output_type": "execute_result"
    }
   ],
   "source": [
    "np.ones((2,5))"
   ]
  },
  {
   "cell_type": "code",
   "execution_count": 17,
   "id": "e03e5cc5-859e-4379-980e-621e2e77dd4a",
   "metadata": {},
   "outputs": [],
   "source": [
    "#### Create an array of zeroes with 2 rows and 10 columns"
   ]
  },
  {
   "cell_type": "code",
   "execution_count": 18,
   "id": "cbfe3d39-224d-4487-9540-fce84ed408e6",
   "metadata": {},
   "outputs": [
    {
     "data": {
      "text/plain": [
       "array([[0, 0, 0, 0, 0, 0, 0, 0, 0, 0],\n",
       "       [0, 0, 0, 0, 0, 0, 0, 0, 0, 0]])"
      ]
     },
     "execution_count": 18,
     "metadata": {},
     "output_type": "execute_result"
    }
   ],
   "source": [
    "np.zeros((2,10),dtype=int)"
   ]
  },
  {
   "cell_type": "markdown",
   "id": "0c4f660a-1f6a-47e8-a52c-7e579e36401c",
   "metadata": {},
   "source": [
    "------------------------------------------------------------------------------------------------------------------------"
   ]
  },
  {
   "cell_type": "markdown",
   "id": "75ea0f26-5baf-41d8-901b-99e0cb8172a5",
   "metadata": {},
   "source": [
    "##### linspace() method in NumPy"
   ]
  },
  {
   "cell_type": "markdown",
   "id": "d3edc799-de2a-44d4-bc33-237d4be9418e",
   "metadata": {},
   "source": [
    "-> Prints an array having linearly spaced numbers in the given interval"
   ]
  },
  {
   "cell_type": "markdown",
   "id": "f6ef53a4-edfb-4c56-8629-d9543b8fe7e7",
   "metadata": {},
   "source": [
    "-> Has a start, stop and 'number of terms' parameter"
   ]
  },
  {
   "cell_type": "markdown",
   "id": "9a66fde2-efef-49d3-813a-dc4c331c61f6",
   "metadata": {},
   "source": [
    "-> default number of terms is 50"
   ]
  },
  {
   "cell_type": "code",
   "execution_count": 21,
   "id": "803df011-12bf-4228-a29b-8bf676baa781",
   "metadata": {},
   "outputs": [
    {
     "data": {
      "text/plain": [
       "array([0.        , 0.33333333, 0.66666667, 1.        ])"
      ]
     },
     "execution_count": 21,
     "metadata": {},
     "output_type": "execute_result"
    }
   ],
   "source": [
    "np.linspace(0,1,4)"
   ]
  },
  {
   "cell_type": "code",
   "execution_count": 22,
   "id": "2f13cecb-01e4-4e6d-bd87-21700002c70f",
   "metadata": {},
   "outputs": [
    {
     "data": {
      "text/plain": [
       "array([1.        , 1.06122449, 1.12244898, 1.18367347, 1.24489796,\n",
       "       1.30612245, 1.36734694, 1.42857143, 1.48979592, 1.55102041,\n",
       "       1.6122449 , 1.67346939, 1.73469388, 1.79591837, 1.85714286,\n",
       "       1.91836735, 1.97959184, 2.04081633, 2.10204082, 2.16326531,\n",
       "       2.2244898 , 2.28571429, 2.34693878, 2.40816327, 2.46938776,\n",
       "       2.53061224, 2.59183673, 2.65306122, 2.71428571, 2.7755102 ,\n",
       "       2.83673469, 2.89795918, 2.95918367, 3.02040816, 3.08163265,\n",
       "       3.14285714, 3.20408163, 3.26530612, 3.32653061, 3.3877551 ,\n",
       "       3.44897959, 3.51020408, 3.57142857, 3.63265306, 3.69387755,\n",
       "       3.75510204, 3.81632653, 3.87755102, 3.93877551, 4.        ])"
      ]
     },
     "execution_count": 22,
     "metadata": {},
     "output_type": "execute_result"
    }
   ],
   "source": [
    "np.linspace(1,4)"
   ]
  },
  {
   "cell_type": "code",
   "execution_count": 23,
   "id": "96d1cdc5-cc3c-4792-84c4-8d7bae4c08d4",
   "metadata": {},
   "outputs": [
    {
     "data": {
      "text/plain": [
       "array([ 0.        ,  2.85714286,  5.71428571,  8.57142857, 11.42857143,\n",
       "       14.28571429, 17.14285714, 20.        ])"
      ]
     },
     "execution_count": 23,
     "metadata": {},
     "output_type": "execute_result"
    }
   ],
   "source": [
    "np.linspace(0,20,8)"
   ]
  },
  {
   "cell_type": "markdown",
   "id": "6d13bc49-5921-41fa-939a-2641a477d880",
   "metadata": {},
   "source": [
    "------------------------------------------------------------------------------------------------------------------------"
   ]
  },
  {
   "cell_type": "markdown",
   "id": "d276bc58-2c42-4766-bc53-57a3890c6a0c",
   "metadata": {},
   "source": [
    "##### eye() method in NumPy"
   ]
  },
  {
   "cell_type": "markdown",
   "id": "4d7c467e-fa79-4ada-9fe5-f4d1262afabf",
   "metadata": {},
   "source": [
    "-> returns an identity matrix"
   ]
  },
  {
   "cell_type": "markdown",
   "id": "e7f05df9-33b0-4867-b9d2-ebf4f30df325",
   "metadata": {},
   "source": [
    "-> default return type is float"
   ]
  },
  {
   "cell_type": "markdown",
   "id": "cd6e24a3-8ff6-463e-9161-d9bd02774ac7",
   "metadata": {},
   "source": [
    "-> Syntax of eye() method has parameters for rows,columns, return datatype and for specifying the diagonal where 1s will be printed"
   ]
  },
  {
   "cell_type": "code",
   "execution_count": 24,
   "id": "7e94a4b2-c506-4c9d-8881-13674862e62d",
   "metadata": {},
   "outputs": [
    {
     "data": {
      "text/plain": [
       "array([[1., 0., 0., 0., 0.],\n",
       "       [0., 1., 0., 0., 0.],\n",
       "       [0., 0., 1., 0., 0.],\n",
       "       [0., 0., 0., 1., 0.],\n",
       "       [0., 0., 0., 0., 1.]])"
      ]
     },
     "execution_count": 24,
     "metadata": {},
     "output_type": "execute_result"
    }
   ],
   "source": [
    "np.eye(5)"
   ]
  },
  {
   "cell_type": "code",
   "execution_count": 32,
   "id": "3a888a2e-3192-4bd7-874f-7b95dff4e4b0",
   "metadata": {},
   "outputs": [
    {
     "data": {
      "text/plain": [
       "array([[0, 0, 0],\n",
       "       [1, 0, 0],\n",
       "       [0, 1, 0]])"
      ]
     },
     "execution_count": 32,
     "metadata": {},
     "output_type": "execute_result"
    }
   ],
   "source": [
    "np.eye(3,3,-1,dtype=int) #### -1 makes the 1s appear in the diagonal  below the main diagonal"
   ]
  },
  {
   "cell_type": "code",
   "execution_count": 31,
   "id": "a3f297f7-5238-4d35-9c56-e74aaad3389a",
   "metadata": {},
   "outputs": [
    {
     "data": {
      "text/plain": [
       "array([[0., 1., 0.],\n",
       "       [0., 0., 1.],\n",
       "       [0., 0., 0.]])"
      ]
     },
     "execution_count": 31,
     "metadata": {},
     "output_type": "execute_result"
    }
   ],
   "source": [
    "np.eye(3,3,1) ##### positive 1 makes the 1s appear in the diagonal above the main diagonal"
   ]
  },
  {
   "cell_type": "markdown",
   "id": "fcaae644-2092-43a0-8fae-5429ca64cf6b",
   "metadata": {},
   "source": [
    "------------------------------------------------------------------------------------------------------------------------"
   ]
  },
  {
   "cell_type": "markdown",
   "id": "d068846a-35f1-4306-a4ac-39a849f345eb",
   "metadata": {},
   "source": [
    "#### Methods to print array with random values"
   ]
  },
  {
   "cell_type": "markdown",
   "id": "70de0372-1df5-4e68-b754-325d894c8313",
   "metadata": {},
   "source": [
    "-> random numbers can be printed using random() method of NumPy"
   ]
  },
  {
   "cell_type": "markdown",
   "id": "540d85ce-2f39-47ae-9edd-fe5acf812c05",
   "metadata": {},
   "source": [
    "##### random.rand() "
   ]
  },
  {
   "cell_type": "code",
   "execution_count": 34,
   "id": "8115a27e-8ece-46e1-9c11-52c9926155c6",
   "metadata": {},
   "outputs": [
    {
     "data": {
      "text/plain": [
       "array([[0.27111461, 0.2355675 ],\n",
       "       [0.9109638 , 0.05235742],\n",
       "       [0.1729322 , 0.16280249]])"
      ]
     },
     "execution_count": 34,
     "metadata": {},
     "output_type": "execute_result"
    }
   ],
   "source": [
    "np.random.rand(3,2) #### random distribution in range (0,1) "
   ]
  },
  {
   "cell_type": "markdown",
   "id": "393edadd-031d-435f-8a39-7bf20e484c27",
   "metadata": {},
   "source": [
    "##### random.randn()"
   ]
  },
  {
   "cell_type": "code",
   "execution_count": 44,
   "id": "4d3ec40e-bf1d-458e-8455-87437c179c7d",
   "metadata": {},
   "outputs": [
    {
     "data": {
      "text/plain": [
       "array([-1.17604838,  0.3013983 , -0.94229923,  3.24445425, -0.17069158])"
      ]
     },
     "execution_count": 44,
     "metadata": {},
     "output_type": "execute_result"
    }
   ],
   "source": [
    "np.random.randn(5) ##### random distribution in range N"
   ]
  },
  {
   "cell_type": "markdown",
   "id": "b1c78577-1955-4d10-941d-163c2e33281e",
   "metadata": {},
   "source": [
    "##### random.randint()"
   ]
  },
  {
   "cell_type": "code",
   "execution_count": 47,
   "id": "ee2bd394-82a7-47bf-9f95-d8a9041bab2f",
   "metadata": {},
   "outputs": [
    {
     "data": {
      "text/plain": [
       "array([41, 59, 45, 51, 95, 87, 66, 51, 82, 85, 82, 62, 99, 37, 79, 34, 60,\n",
       "       58, 66, 50])"
      ]
     },
     "execution_count": 47,
     "metadata": {},
     "output_type": "execute_result"
    }
   ],
   "source": [
    "np.random.randint(34,100,20) ##### (start value, end value, size value) , here 20 is the size of array to be printed"
   ]
  },
  {
   "cell_type": "code",
   "execution_count": 48,
   "id": "03b06658-7254-453d-8890-000bc50a37b9",
   "metadata": {},
   "outputs": [
    {
     "data": {
      "text/plain": [
       "1"
      ]
     },
     "execution_count": 48,
     "metadata": {},
     "output_type": "execute_result"
    }
   ],
   "source": [
    "np.random.randint(2)"
   ]
  },
  {
   "cell_type": "markdown",
   "id": "ad8d017f-e006-42e8-864e-ce3bdc5b924b",
   "metadata": {},
   "source": [
    "------------------------------------------------------------------------------------------------------------------------"
   ]
  },
  {
   "cell_type": "markdown",
   "id": "66b5c27a-7a0e-4081-8793-53e38b2aaacf",
   "metadata": {},
   "source": [
    "##### arange() method in NumPy"
   ]
  },
  {
   "cell_type": "code",
   "execution_count": 52,
   "id": "335c6af9-2dd4-409e-8bc1-606631b93691",
   "metadata": {},
   "outputs": [
    {
     "data": {
      "text/plain": [
       "array([ 0,  1,  2,  3,  4,  5,  6,  7,  8,  9, 10, 11, 12, 13, 14, 15, 16,\n",
       "       17, 18, 19])"
      ]
     },
     "execution_count": 52,
     "metadata": {},
     "output_type": "execute_result"
    }
   ],
   "source": [
    "a=np.arange(20)\n",
    "a"
   ]
  },
  {
   "cell_type": "markdown",
   "id": "6b0894f5-37e7-4f9f-bc2c-e47646b3f63e",
   "metadata": {},
   "source": [
    "-> we get arranged data lying in the specified range"
   ]
  },
  {
   "cell_type": "markdown",
   "id": "9fd57d14-d56a-4153-95bb-62e8c4b9cf5b",
   "metadata": {},
   "source": [
    "------------------------------------------------------------------------------------------------------------------------"
   ]
  },
  {
   "cell_type": "markdown",
   "id": "33162f57-909f-4cac-b260-3d17995c5403",
   "metadata": {},
   "source": [
    "##### reshape() method  "
   ]
  },
  {
   "cell_type": "code",
   "execution_count": 53,
   "id": "f0adec1c-ed02-4df8-ba04-1d966a65115b",
   "metadata": {},
   "outputs": [],
   "source": [
    "b=np.random.randint(0,100,20)"
   ]
  },
  {
   "cell_type": "markdown",
   "id": "4230c355-3c34-4111-967e-b001f85c430d",
   "metadata": {},
   "source": [
    "we can reshape the given data into specified amount of rows and columns."
   ]
  },
  {
   "cell_type": "code",
   "execution_count": 62,
   "id": "2b74b5f7-86e4-49eb-a328-c6723aebe91c",
   "metadata": {},
   "outputs": [
    {
     "data": {
      "text/plain": [
       "array([[49, 90, 65, 78, 99],\n",
       "       [90, 57, 25, 43, 15],\n",
       "       [35,  9, 20, 14, 47],\n",
       "       [27, 26, 29, 45, 80]])"
      ]
     },
     "execution_count": 62,
     "metadata": {},
     "output_type": "execute_result"
    }
   ],
   "source": [
    "b.reshape(4,5)"
   ]
  },
  {
   "cell_type": "code",
   "execution_count": 55,
   "id": "04371b75-00d6-4da6-9578-1a4a152e36f3",
   "metadata": {},
   "outputs": [
    {
     "data": {
      "text/plain": [
       "array([49, 90, 65, 78, 99, 90, 57, 25, 43, 15, 35,  9, 20, 14, 47, 27, 26,\n",
       "       29, 45, 80])"
      ]
     },
     "execution_count": 55,
     "metadata": {},
     "output_type": "execute_result"
    }
   ],
   "source": [
    "b"
   ]
  },
  {
   "cell_type": "markdown",
   "id": "fbb11711-0135-4670-b250-0edbaed6e515",
   "metadata": {},
   "source": [
    "however if the number of rows and columns together cannot accomodate all elements, it will give error"
   ]
  },
  {
   "cell_type": "code",
   "execution_count": 56,
   "id": "df0e43fc-387f-4012-8260-45615a07e674",
   "metadata": {},
   "outputs": [
    {
     "ename": "ValueError",
     "evalue": "cannot reshape array of size 20 into shape (3,1)",
     "output_type": "error",
     "traceback": [
      "\u001b[1;31m---------------------------------------------------------------------------\u001b[0m",
      "\u001b[1;31mValueError\u001b[0m                                Traceback (most recent call last)",
      "Cell \u001b[1;32mIn[56], line 1\u001b[0m\n\u001b[1;32m----> 1\u001b[0m \u001b[43mb\u001b[49m\u001b[38;5;241;43m.\u001b[39;49m\u001b[43mreshape\u001b[49m\u001b[43m(\u001b[49m\u001b[38;5;241;43m3\u001b[39;49m\u001b[43m,\u001b[49m\u001b[38;5;241;43m1\u001b[39;49m\u001b[43m)\u001b[49m\n",
      "\u001b[1;31mValueError\u001b[0m: cannot reshape array of size 20 into shape (3,1)"
     ]
    }
   ],
   "source": [
    "b.reshape(3,1)"
   ]
  },
  {
   "cell_type": "markdown",
   "id": "1442cd92-e440-49a6-b2a8-b63ba79c9886",
   "metadata": {},
   "source": [
    "Also error arises if the rows and columns together have more capacity than number of elements"
   ]
  },
  {
   "cell_type": "code",
   "execution_count": 57,
   "id": "a29f40ee-3696-4c61-b50d-f88debaf833a",
   "metadata": {},
   "outputs": [
    {
     "ename": "ValueError",
     "evalue": "cannot reshape array of size 20 into shape (10,10)",
     "output_type": "error",
     "traceback": [
      "\u001b[1;31m---------------------------------------------------------------------------\u001b[0m",
      "\u001b[1;31mValueError\u001b[0m                                Traceback (most recent call last)",
      "Cell \u001b[1;32mIn[57], line 1\u001b[0m\n\u001b[1;32m----> 1\u001b[0m \u001b[43mb\u001b[49m\u001b[38;5;241;43m.\u001b[39;49m\u001b[43mreshape\u001b[49m\u001b[43m(\u001b[49m\u001b[38;5;241;43m10\u001b[39;49m\u001b[43m,\u001b[49m\u001b[38;5;241;43m10\u001b[39;49m\u001b[43m)\u001b[49m\n",
      "\u001b[1;31mValueError\u001b[0m: cannot reshape array of size 20 into shape (10,10)"
     ]
    }
   ],
   "source": [
    "b.reshape(10,10)"
   ]
  },
  {
   "cell_type": "markdown",
   "id": "1ab4a896-8d49-4474-a7c7-5513d8889a61",
   "metadata": {},
   "source": [
    "------------------------------------------------------------------------------------------------------------------------"
   ]
  },
  {
   "cell_type": "markdown",
   "id": "1419dc1f-74f9-4a60-9449-ce8490972a89",
   "metadata": {},
   "source": [
    "#### NumPy methods to find extreme values of an Array "
   ]
  },
  {
   "cell_type": "markdown",
   "id": "d8f06a97-61a4-437c-a987-7519fb44e568",
   "metadata": {},
   "source": [
    "-> min() method to find minimum value"
   ]
  },
  {
   "cell_type": "markdown",
   "id": "9e7938ed-e375-4fc4-ad8c-6e90bc85e529",
   "metadata": {},
   "source": [
    "-> max() method to find maximum value"
   ]
  },
  {
   "cell_type": "markdown",
   "id": "0c73f764-cf8e-404c-942c-6de38a11e9b4",
   "metadata": {},
   "source": [
    "-> argmin() and argmax() to find the indices of the minimum and maximum values respectively"
   ]
  },
  {
   "cell_type": "code",
   "execution_count": 63,
   "id": "f80bd2d7-2b85-4937-989a-fae0c147aff5",
   "metadata": {},
   "outputs": [
    {
     "data": {
      "text/plain": [
       "11"
      ]
     },
     "execution_count": 63,
     "metadata": {},
     "output_type": "execute_result"
    }
   ],
   "source": [
    "b.argmin()"
   ]
  },
  {
   "cell_type": "code",
   "execution_count": 69,
   "id": "7f4cedf2-28c6-47ef-8511-db974f4b8f79",
   "metadata": {},
   "outputs": [
    {
     "data": {
      "text/plain": [
       "9"
      ]
     },
     "execution_count": 69,
     "metadata": {},
     "output_type": "execute_result"
    }
   ],
   "source": [
    "b.min()"
   ]
  },
  {
   "cell_type": "code",
   "execution_count": 70,
   "id": "fb3496af-5769-43d7-91bf-f87bb1f49726",
   "metadata": {},
   "outputs": [
    {
     "data": {
      "text/plain": [
       "99"
      ]
     },
     "execution_count": 70,
     "metadata": {},
     "output_type": "execute_result"
    }
   ],
   "source": [
    "b.max()"
   ]
  },
  {
   "cell_type": "code",
   "execution_count": 71,
   "id": "95b43038-1dce-478c-8782-f54fc57698f6",
   "metadata": {},
   "outputs": [
    {
     "data": {
      "text/plain": [
       "4"
      ]
     },
     "execution_count": 71,
     "metadata": {},
     "output_type": "execute_result"
    }
   ],
   "source": [
    "b.argmax()"
   ]
  },
  {
   "cell_type": "code",
   "execution_count": 73,
   "id": "3dbd1ac2-e0ca-4708-ae83-b1e26ba0a943",
   "metadata": {},
   "outputs": [
    {
     "data": {
      "text/plain": [
       "dtype('int32')"
      ]
     },
     "execution_count": 73,
     "metadata": {},
     "output_type": "execute_result"
    }
   ],
   "source": [
    "b.dtype"
   ]
  },
  {
   "cell_type": "markdown",
   "id": "c86190c7-6d7e-4d2f-b8bc-02900766004d",
   "metadata": {},
   "source": [
    "------------------------------------------------------------------------------------------------------------------------"
   ]
  },
  {
   "cell_type": "markdown",
   "id": "d67d7775-cae6-4187-93ca-2d676a603888",
   "metadata": {},
   "source": [
    "#### Transpose of an array"
   ]
  },
  {
   "cell_type": "markdown",
   "id": "f228574a-0187-4f3c-934d-5c57e6ba3463",
   "metadata": {},
   "source": [
    "Transpose of an array can be made by typing name of the array followed by \".T\""
   ]
  },
  {
   "cell_type": "code",
   "execution_count": 75,
   "id": "4819e972-2dd4-4b4a-bdd2-d0b437eae5e7",
   "metadata": {},
   "outputs": [
    {
     "data": {
      "text/plain": [
       "array([[49, 90, 65, 78, 99],\n",
       "       [90, 57, 25, 43, 15],\n",
       "       [35,  9, 20, 14, 47],\n",
       "       [27, 26, 29, 45, 80]])"
      ]
     },
     "execution_count": 75,
     "metadata": {},
     "output_type": "execute_result"
    }
   ],
   "source": [
    "c"
   ]
  },
  {
   "cell_type": "code",
   "execution_count": 77,
   "id": "a442fa08-7d56-4044-9f95-a950f64a9e11",
   "metadata": {},
   "outputs": [
    {
     "data": {
      "text/plain": [
       "array([[49, 90, 35, 27],\n",
       "       [90, 57,  9, 26],\n",
       "       [65, 25, 20, 29],\n",
       "       [78, 43, 14, 45],\n",
       "       [99, 15, 47, 80]])"
      ]
     },
     "execution_count": 77,
     "metadata": {},
     "output_type": "execute_result"
    }
   ],
   "source": [
    "c.T"
   ]
  },
  {
   "cell_type": "markdown",
   "id": "15c0d859-f4e6-43f3-a02a-d2c86dbbcc59",
   "metadata": {},
   "source": [
    "------------------------------------------------------------------------------------------------------------------------"
   ]
  },
  {
   "cell_type": "markdown",
   "id": "c75cdcb0-8349-4348-ba94-e439806664bc",
   "metadata": {},
   "source": [
    "#### Indexing in an array"
   ]
  },
  {
   "cell_type": "markdown",
   "id": "65b869fd-803f-4f4a-bef6-2df808522dff",
   "metadata": {},
   "source": [
    "Arrays are also indexed , hence they can be sliced using the logics of indices"
   ]
  },
  {
   "cell_type": "code",
   "execution_count": 78,
   "id": "74542b5e-3772-46ec-96f8-7579f2c0678a",
   "metadata": {},
   "outputs": [
    {
     "data": {
      "text/plain": [
       "array([49, 90, 65, 78, 99, 90, 57, 25, 43, 15, 35,  9, 20, 14, 47, 27, 26,\n",
       "       29, 45, 80])"
      ]
     },
     "execution_count": 78,
     "metadata": {},
     "output_type": "execute_result"
    }
   ],
   "source": [
    "b"
   ]
  },
  {
   "cell_type": "code",
   "execution_count": 79,
   "id": "9d9b2061-b3e7-4e91-8672-efba434080d2",
   "metadata": {},
   "outputs": [
    {
     "data": {
      "text/plain": [
       "array([90, 65, 78, 99])"
      ]
     },
     "execution_count": 79,
     "metadata": {},
     "output_type": "execute_result"
    }
   ],
   "source": [
    "b[1:5]"
   ]
  },
  {
   "cell_type": "code",
   "execution_count": 80,
   "id": "3a7aeeff-238d-4a93-9c0e-826dccbda471",
   "metadata": {},
   "outputs": [
    {
     "data": {
      "text/plain": [
       "array([49, 90, 65, 78, 99])"
      ]
     },
     "execution_count": 80,
     "metadata": {},
     "output_type": "execute_result"
    }
   ],
   "source": [
    "b[:5]"
   ]
  },
  {
   "cell_type": "code",
   "execution_count": 81,
   "id": "af5ead47-0563-4021-80d3-7897b59e54b2",
   "metadata": {},
   "outputs": [
    {
     "data": {
      "text/plain": [
       "array([57, 25, 43, 15, 35,  9, 20, 14, 47, 27, 26, 29, 45, 80])"
      ]
     },
     "execution_count": 81,
     "metadata": {},
     "output_type": "execute_result"
    }
   ],
   "source": [
    "b[6:]\n"
   ]
  },
  {
   "cell_type": "code",
   "execution_count": 82,
   "id": "f2ee0bf5-ad65-4c1e-8596-efde9b1efe4e",
   "metadata": {},
   "outputs": [
    {
     "data": {
      "text/plain": [
       "array([78, 99, 90, 57, 25, 43, 15, 35,  9, 20, 14, 47])"
      ]
     },
     "execution_count": 82,
     "metadata": {},
     "output_type": "execute_result"
    }
   ],
   "source": [
    "b[3:-5]"
   ]
  },
  {
   "cell_type": "code",
   "execution_count": 83,
   "id": "c541287f-12ce-4a19-8ad3-e464ab612ab1",
   "metadata": {},
   "outputs": [
    {
     "data": {
      "text/plain": [
       "array([29, 45, 80])"
      ]
     },
     "execution_count": 83,
     "metadata": {},
     "output_type": "execute_result"
    }
   ],
   "source": [
    "b[-3:]"
   ]
  },
  {
   "cell_type": "code",
   "execution_count": 84,
   "id": "4a0c9fc4-8202-4d06-9be8-c71b79020c16",
   "metadata": {},
   "outputs": [
    {
     "data": {
      "text/plain": [
       "array([49, 78, 57, 15, 20, 27, 45])"
      ]
     },
     "execution_count": 84,
     "metadata": {},
     "output_type": "execute_result"
    }
   ],
   "source": [
    "b[::3]"
   ]
  },
  {
   "cell_type": "code",
   "execution_count": 85,
   "id": "aee5ce1b-39f1-429e-a97c-835291a97024",
   "metadata": {},
   "outputs": [
    {
     "data": {
      "text/plain": [
       "array([100, 100, 100, 100, 100,  90,  57,  25,  43,  15,  35,   9,  20,\n",
       "        14,  47,  27,  26,  29,  45,  80])"
      ]
     },
     "execution_count": 85,
     "metadata": {},
     "output_type": "execute_result"
    }
   ],
   "source": [
    "b[:5]=100\n",
    "b"
   ]
  },
  {
   "cell_type": "markdown",
   "id": "09965ecb-4b48-4fdb-bafa-a6e412461d9a",
   "metadata": {},
   "source": [
    "------------------------------------------------------------------------------------------------------------------------"
   ]
  },
  {
   "cell_type": "markdown",
   "id": "143efb52-4030-4c1a-9d54-216f5e7ff0a1",
   "metadata": {},
   "source": [
    "### Two dimensional array in Python using NumPy"
   ]
  },
  {
   "cell_type": "code",
   "execution_count": 90,
   "id": "dce1dde1-fdb8-469f-b3c7-6faf16aa83bb",
   "metadata": {},
   "outputs": [
    {
     "data": {
      "text/plain": [
       "array([[50, 20,  1, 23],\n",
       "       [24, 23, 21, 33],\n",
       "       [56, 76, 24,  7]])"
      ]
     },
     "execution_count": 90,
     "metadata": {},
     "output_type": "execute_result"
    }
   ],
   "source": [
    "m=np.array(([50,20,1,23],[24,23,21,33],[56,76,24,7])) #### creating an array\n",
    "m"
   ]
  },
  {
   "cell_type": "code",
   "execution_count": 89,
   "id": "f6d5c752-7b8d-4a21-bda3-8467308470d1",
   "metadata": {},
   "outputs": [
    {
     "data": {
      "text/plain": [
       "24"
      ]
     },
     "execution_count": 89,
     "metadata": {},
     "output_type": "execute_result"
    }
   ],
   "source": [
    "m[2][2] ### accessing an element in the created array"
   ]
  },
  {
   "cell_type": "code",
   "execution_count": 92,
   "id": "6461f304-1b16-4912-83d0-17ddb92311c4",
   "metadata": {},
   "outputs": [
    {
     "data": {
      "text/plain": [
       "array([56, 76, 24,  7])"
      ]
     },
     "execution_count": 92,
     "metadata": {},
     "output_type": "execute_result"
    }
   ],
   "source": [
    "m[2,:]"
   ]
  },
  {
   "cell_type": "code",
   "execution_count": 93,
   "id": "26682d07-0306-455a-9519-1e1a9426c804",
   "metadata": {},
   "outputs": [
    {
     "data": {
      "text/plain": [
       "array([56, 76, 24,  7])"
      ]
     },
     "execution_count": 93,
     "metadata": {},
     "output_type": "execute_result"
    }
   ],
   "source": [
    "m[2]\n"
   ]
  },
  {
   "cell_type": "code",
   "execution_count": 95,
   "id": "da8731ff-2617-4eba-b23f-2b9a9e6e1ad3",
   "metadata": {},
   "outputs": [
    {
     "data": {
      "text/plain": [
       "array([[23,  1],\n",
       "       [33, 21],\n",
       "       [ 7, 24]])"
      ]
     },
     "execution_count": 95,
     "metadata": {},
     "output_type": "execute_result"
    }
   ],
   "source": [
    "m[:,(3,2)] ### arranging all elements of 3rd and 2nd columns of each row into a new matrix"
   ]
  },
  {
   "cell_type": "markdown",
   "id": "e2bfbfdd-cda1-4dd7-89fa-51fa9ac588ae",
   "metadata": {},
   "source": [
    "------------------------------------------------------------------------------------------------------------------------"
   ]
  },
  {
   "cell_type": "markdown",
   "id": "9186ceec-9a05-4a34-b35c-c3f31fc01202",
   "metadata": {},
   "source": [
    "#### unique() method in NumPy"
   ]
  },
  {
   "cell_type": "code",
   "execution_count": null,
   "id": "e3417ff9-d236-411a-8dcf-4e2ce973c50c",
   "metadata": {},
   "outputs": [
    {
     "data": {
      "text/plain": [
       "array(['cricket', 'football', 'golf'], dtype='<U8')"
      ]
     },
     "execution_count": 5,
     "metadata": {},
     "output_type": "execute_result"
    }
   ],
   "source": [
    "sports=np.array(['golf','cricket','football','cricket','football'])\n",
    "np.unique(sports)"
   ]
  },
  {
   "cell_type": "markdown",
   "id": "44b7bbd4-9f0c-4878-8fda-e80998490722",
   "metadata": {},
   "source": [
    "'U8' indicates number of characters in the longest string"
   ]
  },
  {
   "cell_type": "markdown",
   "id": "d13444db-1a77-469c-8ae7-d72e0aa2f165",
   "metadata": {},
   "source": [
    "### Selection techniques in NumPy"
   ]
  },
  {
   "cell_type": "code",
   "execution_count": 6,
   "id": "ad853ed9-d45b-49a5-9f0f-b82ac7b0484d",
   "metadata": {},
   "outputs": [],
   "source": [
    "s=np.arange(1,20)"
   ]
  },
  {
   "cell_type": "code",
   "execution_count": 7,
   "id": "2c8de274-e2ed-48c5-a926-cc0dd4a5e089",
   "metadata": {},
   "outputs": [
    {
     "data": {
      "text/plain": [
       "array([ 1,  2,  3,  4,  5,  6,  7,  8,  9, 10, 11, 12, 13, 14, 15, 16, 17,\n",
       "       18, 19])"
      ]
     },
     "execution_count": 7,
     "metadata": {},
     "output_type": "execute_result"
    }
   ],
   "source": [
    "s"
   ]
  },
  {
   "cell_type": "code",
   "execution_count": 8,
   "id": "f69065c4-194a-4754-a08a-1a9a3dceaf70",
   "metadata": {},
   "outputs": [
    {
     "data": {
      "text/plain": [
       "array([ 2,  4,  6,  8, 10, 12, 14, 16, 18, 20, 22, 24, 26, 28, 30, 32, 34,\n",
       "       36, 38])"
      ]
     },
     "execution_count": 8,
     "metadata": {},
     "output_type": "execute_result"
    }
   ],
   "source": [
    "s+s"
   ]
  },
  {
   "cell_type": "markdown",
   "id": "d11aad49-d389-4a4e-9153-6d34683a678d",
   "metadata": {},
   "source": [
    "#### Different mathematical operations performed on all elements of the array"
   ]
  },
  {
   "cell_type": "code",
   "execution_count": 13,
   "id": "645a0184-d067-4e56-babb-dd27759d4a52",
   "metadata": {},
   "outputs": [
    {
     "data": {
      "text/plain": [
       "array([2.71828183e+00, 7.38905610e+00, 2.00855369e+01, 5.45981500e+01,\n",
       "       1.48413159e+02, 4.03428793e+02, 1.09663316e+03, 2.98095799e+03,\n",
       "       8.10308393e+03, 2.20264658e+04, 5.98741417e+04, 1.62754791e+05,\n",
       "       4.42413392e+05, 1.20260428e+06, 3.26901737e+06, 8.88611052e+06,\n",
       "       2.41549528e+07, 6.56599691e+07, 1.78482301e+08])"
      ]
     },
     "execution_count": 13,
     "metadata": {},
     "output_type": "execute_result"
    }
   ],
   "source": [
    "np.exp(s)"
   ]
  },
  {
   "cell_type": "code",
   "execution_count": 12,
   "id": "05acbc67-7597-4132-b106-753e8c1957e0",
   "metadata": {},
   "outputs": [
    {
     "data": {
      "text/plain": [
       "array([1.        , 1.41421356, 1.73205081, 2.        , 2.23606798,\n",
       "       2.44948974, 2.64575131, 2.82842712, 3.        , 3.16227766,\n",
       "       3.31662479, 3.46410162, 3.60555128, 3.74165739, 3.87298335,\n",
       "       4.        , 4.12310563, 4.24264069, 4.35889894])"
      ]
     },
     "execution_count": 12,
     "metadata": {},
     "output_type": "execute_result"
    }
   ],
   "source": [
    "np.sqrt(s)"
   ]
  },
  {
   "cell_type": "code",
   "execution_count": 14,
   "id": "6b585190-200a-4e59-86d5-7ad0af1f7998",
   "metadata": {},
   "outputs": [
    {
     "data": {
      "text/plain": [
       "array([0.        , 0.69314718, 1.09861229, 1.38629436, 1.60943791,\n",
       "       1.79175947, 1.94591015, 2.07944154, 2.19722458, 2.30258509,\n",
       "       2.39789527, 2.48490665, 2.56494936, 2.63905733, 2.7080502 ,\n",
       "       2.77258872, 2.83321334, 2.89037176, 2.94443898])"
      ]
     },
     "execution_count": 14,
     "metadata": {},
     "output_type": "execute_result"
    }
   ],
   "source": [
    "np.log(s)"
   ]
  },
  {
   "cell_type": "code",
   "execution_count": 15,
   "id": "af8dfb4c-297e-4c38-8b41-e27c1dd6926f",
   "metadata": {},
   "outputs": [
    {
     "data": {
      "text/plain": [
       "19"
      ]
     },
     "execution_count": 15,
     "metadata": {},
     "output_type": "execute_result"
    }
   ],
   "source": [
    "np.max(s)"
   ]
  },
  {
   "cell_type": "code",
   "execution_count": 16,
   "id": "211ffc4a-000f-4b59-9a6a-56f754882508",
   "metadata": {},
   "outputs": [
    {
     "data": {
      "text/plain": [
       "1"
      ]
     },
     "execution_count": 16,
     "metadata": {},
     "output_type": "execute_result"
    }
   ],
   "source": [
    "np.min(s)"
   ]
  },
  {
   "cell_type": "code",
   "execution_count": 17,
   "id": "3e845c82-7937-4f02-8c18-ad90161b9854",
   "metadata": {},
   "outputs": [
    {
     "data": {
      "text/plain": [
       "0"
      ]
     },
     "execution_count": 17,
     "metadata": {},
     "output_type": "execute_result"
    }
   ],
   "source": [
    "np.argmin(s)"
   ]
  },
  {
   "cell_type": "code",
   "execution_count": 18,
   "id": "4c46d228-7be1-4122-8112-88f0f92b6b85",
   "metadata": {},
   "outputs": [
    {
     "data": {
      "text/plain": [
       "18"
      ]
     },
     "execution_count": 18,
     "metadata": {},
     "output_type": "execute_result"
    }
   ],
   "source": [
    "np.argmax(s)"
   ]
  },
  {
   "cell_type": "code",
   "execution_count": 19,
   "id": "ce181f68-ef0a-4c40-a9dc-797e39b82d7a",
   "metadata": {},
   "outputs": [
    {
     "data": {
      "text/plain": [
       "array([  1,   4,   9,  16,  25,  36,  49,  64,  81, 100, 121, 144, 169,\n",
       "       196, 225, 256, 289, 324, 361])"
      ]
     },
     "execution_count": 19,
     "metadata": {},
     "output_type": "execute_result"
    }
   ],
   "source": [
    "np.square(s)"
   ]
  },
  {
   "cell_type": "code",
   "execution_count": 20,
   "id": "58ec6a58-1c39-401e-b18c-0faaca1090ec",
   "metadata": {},
   "outputs": [
    {
     "data": {
      "text/plain": [
       "5.477225575051661"
      ]
     },
     "execution_count": 20,
     "metadata": {},
     "output_type": "execute_result"
    }
   ],
   "source": [
    "np.std(s)"
   ]
  },
  {
   "cell_type": "code",
   "execution_count": 21,
   "id": "df85f8ad-cc3b-40fc-8a00-3760b54da658",
   "metadata": {},
   "outputs": [
    {
     "data": {
      "text/plain": [
       "10.0"
      ]
     },
     "execution_count": 21,
     "metadata": {},
     "output_type": "execute_result"
    }
   ],
   "source": [
    "np.mean(s)"
   ]
  },
  {
   "cell_type": "code",
   "execution_count": 22,
   "id": "9620e0b4-a6f9-43b8-90ef-ed2600226744",
   "metadata": {},
   "outputs": [
    {
     "data": {
      "text/plain": [
       "30.0"
      ]
     },
     "execution_count": 22,
     "metadata": {},
     "output_type": "execute_result"
    }
   ],
   "source": [
    "np.var(s)"
   ]
  },
  {
   "cell_type": "code",
   "execution_count": 23,
   "id": "c7448cca-13cd-43c2-9b78-30a2e4d8308e",
   "metadata": {},
   "outputs": [
    {
     "data": {
      "text/plain": [
       "array([[-0.242 ,  0.9855,  0.3026, -0.8457],\n",
       "       [-0.5254, -0.5692, -0.2855,  0.8452],\n",
       "       [-1.5086, -1.3331,  0.2899,  1.5994]])"
      ]
     },
     "execution_count": 23,
     "metadata": {},
     "output_type": "execute_result"
    }
   ],
   "source": [
    "s=np.random.randn(3,4)\n",
    "s\n",
    "np.round(s,decimals=4)"
   ]
  },
  {
   "cell_type": "code",
   "execution_count": 27,
   "id": "bac8dd45-5c74-467f-ae0b-47a6f5225c16",
   "metadata": {},
   "outputs": [
    {
     "data": {
      "text/plain": [
       "array([[-0.24,  0.99,  0.3 , -0.85],\n",
       "       [-0.53, -0.57, -0.29,  0.85],\n",
       "       [-1.51, -1.33,  0.29,  1.6 ]])"
      ]
     },
     "execution_count": 27,
     "metadata": {},
     "output_type": "execute_result"
    }
   ],
   "source": [
    "np.round(s,decimals=2)"
   ]
  },
  {
   "cell_type": "code",
   "execution_count": null,
   "id": "921fefe5-520c-4b90-950b-561311b0316c",
   "metadata": {},
   "outputs": [],
   "source": []
  }
 ],
 "metadata": {
  "kernelspec": {
   "display_name": "Python 3 (ipykernel)",
   "language": "python",
   "name": "python3"
  },
  "language_info": {
   "codemirror_mode": {
    "name": "ipython",
    "version": 3
   },
   "file_extension": ".py",
   "mimetype": "text/x-python",
   "name": "python",
   "nbconvert_exporter": "python",
   "pygments_lexer": "ipython3",
   "version": "3.11.1"
  }
 },
 "nbformat": 4,
 "nbformat_minor": 5
}
