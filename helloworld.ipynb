{
 "cells": [
  {
   "cell_type": "markdown",
   "id": "3b5638c1-e7fe-41a7-865e-bb5b9843aeb6",
   "metadata": {},
   "source": [
    "Print() function in python"
   ]
  },
  {
   "cell_type": "code",
   "execution_count": 1,
   "id": "8a245605-17b8-4b9c-9751-8f44df80536f",
   "metadata": {},
   "outputs": [
    {
     "name": "stdout",
     "output_type": "stream",
     "text": [
      "Hello World!\n"
     ]
    }
   ],
   "source": [
    "print(\"Hello World!\")\n"
   ]
  },
  {
   "cell_type": "markdown",
   "id": "dc9cfe27-da72-4020-9008-a6ecf185ea39",
   "metadata": {},
   "source": [
    "Printing my name in python"
   ]
  },
  {
   "cell_type": "code",
   "execution_count": 6,
   "id": "17ffe5f5-8696-4c1c-9570-509c9bad9abc",
   "metadata": {},
   "outputs": [
    {
     "name": "stdout",
     "output_type": "stream",
     "text": [
      "Pratyush\n"
     ]
    }
   ],
   "source": [
    "print(\"Pratyush\")"
   ]
  },
  {
   "cell_type": "markdown",
   "id": "f3087c14-681f-4fc9-b6d8-8390817f0aaa",
   "metadata": {},
   "source": [
    "Printing numbers in python"
   ]
  },
  {
   "cell_type": "code",
   "execution_count": 2,
   "id": "85942f88-622b-427e-a31e-5878bbab586f",
   "metadata": {},
   "outputs": [
    {
     "name": "stdout",
     "output_type": "stream",
     "text": [
      "10\n"
     ]
    }
   ],
   "source": [
    "print(10)"
   ]
  },
  {
   "cell_type": "code",
   "execution_count": 3,
   "id": "7bcdaebc-7f73-4291-bd19-89d336619d2d",
   "metadata": {},
   "outputs": [
    {
     "name": "stdout",
     "output_type": "stream",
     "text": [
      "1.8\n"
     ]
    }
   ],
   "source": [
    "print(1.8)"
   ]
  },
  {
   "cell_type": "markdown",
   "id": "1e6cfe2d-b4fb-4111-9534-05f6e9c73d73",
   "metadata": {},
   "source": [
    "##### Printing multiple values in python"
   ]
  },
  {
   "cell_type": "code",
   "execution_count": 4,
   "id": "6bc12164-b092-4786-a2c8-72bc48ebec4f",
   "metadata": {},
   "outputs": [
    {
     "name": "stdout",
     "output_type": "stream",
     "text": [
      "First 10 1.8\n"
     ]
    }
   ],
   "source": [
    "print(\"First\",10,1.8)"
   ]
  },
  {
   "cell_type": "markdown",
   "id": "0d0f9cc3-eec7-4936-b1f4-bb39504e1c57",
   "metadata": {},
   "source": [
    "### Datatypes"
   ]
  },
  {
   "cell_type": "code",
   "execution_count": 7,
   "id": "7bdcbc75-4cc5-4569-aa75-162165b7f2b9",
   "metadata": {},
   "outputs": [
    {
     "data": {
      "text/plain": [
       "int"
      ]
     },
     "execution_count": 7,
     "metadata": {},
     "output_type": "execute_result"
    }
   ],
   "source": [
    "x=10\n",
    "type(10)"
   ]
  },
  {
   "cell_type": "code",
   "execution_count": 8,
   "id": "17c69f12-9615-4c62-8c5b-f7bb77538266",
   "metadata": {},
   "outputs": [
    {
     "data": {
      "text/plain": [
       "float"
      ]
     },
     "execution_count": 8,
     "metadata": {},
     "output_type": "execute_result"
    }
   ],
   "source": [
    "y=10.8\n",
    "type(y)"
   ]
  },
  {
   "cell_type": "code",
   "execution_count": 9,
   "id": "b92bbb45-a4bd-46e8-b041-ef465515cf74",
   "metadata": {},
   "outputs": [
    {
     "data": {
      "text/plain": [
       "str"
      ]
     },
     "execution_count": 9,
     "metadata": {},
     "output_type": "execute_result"
    }
   ],
   "source": [
    "z=\"abcd\"\n",
    "type(z)\n"
   ]
  },
  {
   "cell_type": "code",
   "execution_count": 10,
   "id": "2b825aeb-e0ec-491e-9c05-19a7de3d6bae",
   "metadata": {},
   "outputs": [
    {
     "data": {
      "text/plain": [
       "bool"
      ]
     },
     "execution_count": 10,
     "metadata": {},
     "output_type": "execute_result"
    }
   ],
   "source": [
    "a=True\n",
    "type(a)"
   ]
  },
  {
   "cell_type": "markdown",
   "id": "dfa0190d-e6a8-4dcc-95e8-8bd26d93b0a4",
   "metadata": {},
   "source": [
    "#### Datatypes in python\n",
    "int     -> numbers without decimal point\n",
    "float   -> numbers with decimal point\n",
    "boolean -> True and False\n",
    "string  -> text based data"
   ]
  }
 ],
 "metadata": {
  "kernelspec": {
   "display_name": "Python 3 (ipykernel)",
   "language": "python",
   "name": "python3"
  },
  "language_info": {
   "codemirror_mode": {
    "name": "ipython",
    "version": 3
   },
   "file_extension": ".py",
   "mimetype": "text/x-python",
   "name": "python",
   "nbconvert_exporter": "python",
   "pygments_lexer": "ipython3",
   "version": "3.11.1"
  }
 },
 "nbformat": 4,
 "nbformat_minor": 5
}
